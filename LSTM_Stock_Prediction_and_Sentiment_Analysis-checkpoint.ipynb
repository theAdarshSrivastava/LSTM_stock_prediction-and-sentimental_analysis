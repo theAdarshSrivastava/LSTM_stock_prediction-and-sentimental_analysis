{
 "cells": [
  {
   "cell_type": "markdown",
   "metadata": {},
   "source": [
    "#ADARSH SRIVASTAVA"
   ]
  },
  {
   "cell_type": "markdown",
   "metadata": {
    "id": "uxPmrIr3pzQD"
   },
   "source": [
    "## Importing necessary modules"
   ]
  },
  {
   "cell_type": "code",
   "execution_count": 2,
   "metadata": {
    "id": "emGXSdA7Tt0P"
   },
   "outputs": [],
   "source": [
    "#importing the libraries\n",
    "import math\n",
    "import matplotlib.pyplot as plt\n",
    "import seaborn\n",
    "import pandas as pd\n",
    "import numpy as np\n",
    "import pandas_datareader as web\n",
    "from sklearn.metrics import mean_squared_error\n",
    "from sklearn.preprocessing import MinMaxScaler\n",
    "from keras.models import Sequential\n",
    "from keras.layers import Dense\n",
    "from keras.layers import LSTM\n",
    "from keras.layers import Dropout\n",
    "\n",
    "import warnings\n",
    "warnings.filterwarnings('ignore')"
   ]
  },
  {
   "cell_type": "markdown",
   "metadata": {
    "id": "vMZHVIt7p6yP"
   },
   "source": [
    "## Historical Stock Data"
   ]
  },
  {
   "cell_type": "code",
   "execution_count": 3,
   "metadata": {
    "colab": {
     "base_uri": "https://localhost:8080/"
    },
    "id": "04F7avg1cUyk",
    "outputId": "325080f0-7ea2-4804-9c7c-8cbfe63f8ea0"
   },
   "outputs": [
    {
     "data": {
      "text/html": [
       "<div>\n",
       "<style scoped>\n",
       "    .dataframe tbody tr th:only-of-type {\n",
       "        vertical-align: middle;\n",
       "    }\n",
       "\n",
       "    .dataframe tbody tr th {\n",
       "        vertical-align: top;\n",
       "    }\n",
       "\n",
       "    .dataframe thead th {\n",
       "        text-align: right;\n",
       "    }\n",
       "</style>\n",
       "<table border=\"1\" class=\"dataframe\">\n",
       "  <thead>\n",
       "    <tr style=\"text-align: right;\">\n",
       "      <th></th>\n",
       "      <th>High</th>\n",
       "      <th>Low</th>\n",
       "      <th>Open</th>\n",
       "      <th>Close</th>\n",
       "      <th>Volume</th>\n",
       "      <th>Adj Close</th>\n",
       "    </tr>\n",
       "    <tr>\n",
       "      <th>Date</th>\n",
       "      <th></th>\n",
       "      <th></th>\n",
       "      <th></th>\n",
       "      <th></th>\n",
       "      <th></th>\n",
       "      <th></th>\n",
       "    </tr>\n",
       "  </thead>\n",
       "  <tbody>\n",
       "    <tr>\n",
       "      <th>2011-01-03</th>\n",
       "      <td>20664.800781</td>\n",
       "      <td>20531.000000</td>\n",
       "      <td>20621.609375</td>\n",
       "      <td>20561.050781</td>\n",
       "      <td>12000.0</td>\n",
       "      <td>20561.050781</td>\n",
       "    </tr>\n",
       "    <tr>\n",
       "      <th>2011-01-04</th>\n",
       "      <td>20651.210938</td>\n",
       "      <td>20449.009766</td>\n",
       "      <td>20617.380859</td>\n",
       "      <td>20498.720703</td>\n",
       "      <td>15200.0</td>\n",
       "      <td>20498.720703</td>\n",
       "    </tr>\n",
       "    <tr>\n",
       "      <th>2011-01-05</th>\n",
       "      <td>20509.949219</td>\n",
       "      <td>20243.949219</td>\n",
       "      <td>20509.949219</td>\n",
       "      <td>20301.099609</td>\n",
       "      <td>14400.0</td>\n",
       "      <td>20301.099609</td>\n",
       "    </tr>\n",
       "    <tr>\n",
       "      <th>2011-01-06</th>\n",
       "      <td>20425.849609</td>\n",
       "      <td>20107.169922</td>\n",
       "      <td>20395.500000</td>\n",
       "      <td>20184.740234</td>\n",
       "      <td>16600.0</td>\n",
       "      <td>20184.740234</td>\n",
       "    </tr>\n",
       "    <tr>\n",
       "      <th>2011-01-07</th>\n",
       "      <td>20210.619141</td>\n",
       "      <td>19629.220703</td>\n",
       "      <td>20163.849609</td>\n",
       "      <td>19691.810547</td>\n",
       "      <td>15800.0</td>\n",
       "      <td>19691.810547</td>\n",
       "    </tr>\n",
       "    <tr>\n",
       "      <th>2011-01-10</th>\n",
       "      <td>19720.429688</td>\n",
       "      <td>19158.429688</td>\n",
       "      <td>19714.419922</td>\n",
       "      <td>19224.119141</td>\n",
       "      <td>17200.0</td>\n",
       "      <td>19224.119141</td>\n",
       "    </tr>\n",
       "    <tr>\n",
       "      <th>2011-01-11</th>\n",
       "      <td>19431.560547</td>\n",
       "      <td>19003.599609</td>\n",
       "      <td>19279.769531</td>\n",
       "      <td>19196.339844</td>\n",
       "      <td>20000.0</td>\n",
       "      <td>19196.339844</td>\n",
       "    </tr>\n",
       "    <tr>\n",
       "      <th>2011-01-12</th>\n",
       "      <td>19574.630859</td>\n",
       "      <td>19048.560547</td>\n",
       "      <td>19353.339844</td>\n",
       "      <td>19534.099609</td>\n",
       "      <td>19400.0</td>\n",
       "      <td>19534.099609</td>\n",
       "    </tr>\n",
       "    <tr>\n",
       "      <th>2011-01-13</th>\n",
       "      <td>19522.380859</td>\n",
       "      <td>19136.269531</td>\n",
       "      <td>19492.300781</td>\n",
       "      <td>19182.820312</td>\n",
       "      <td>16800.0</td>\n",
       "      <td>19182.820312</td>\n",
       "    </tr>\n",
       "    <tr>\n",
       "      <th>2011-01-14</th>\n",
       "      <td>19447.820312</td>\n",
       "      <td>18811.960938</td>\n",
       "      <td>19198.039062</td>\n",
       "      <td>18860.439453</td>\n",
       "      <td>15800.0</td>\n",
       "      <td>18860.439453</td>\n",
       "    </tr>\n",
       "  </tbody>\n",
       "</table>\n",
       "</div>"
      ],
      "text/plain": [
       "                    High           Low          Open         Close   Volume  \\\n",
       "Date                                                                          \n",
       "2011-01-03  20664.800781  20531.000000  20621.609375  20561.050781  12000.0   \n",
       "2011-01-04  20651.210938  20449.009766  20617.380859  20498.720703  15200.0   \n",
       "2011-01-05  20509.949219  20243.949219  20509.949219  20301.099609  14400.0   \n",
       "2011-01-06  20425.849609  20107.169922  20395.500000  20184.740234  16600.0   \n",
       "2011-01-07  20210.619141  19629.220703  20163.849609  19691.810547  15800.0   \n",
       "2011-01-10  19720.429688  19158.429688  19714.419922  19224.119141  17200.0   \n",
       "2011-01-11  19431.560547  19003.599609  19279.769531  19196.339844  20000.0   \n",
       "2011-01-12  19574.630859  19048.560547  19353.339844  19534.099609  19400.0   \n",
       "2011-01-13  19522.380859  19136.269531  19492.300781  19182.820312  16800.0   \n",
       "2011-01-14  19447.820312  18811.960938  19198.039062  18860.439453  15800.0   \n",
       "\n",
       "               Adj Close  \n",
       "Date                      \n",
       "2011-01-03  20561.050781  \n",
       "2011-01-04  20498.720703  \n",
       "2011-01-05  20301.099609  \n",
       "2011-01-06  20184.740234  \n",
       "2011-01-07  19691.810547  \n",
       "2011-01-10  19224.119141  \n",
       "2011-01-11  19196.339844  \n",
       "2011-01-12  19534.099609  \n",
       "2011-01-13  19182.820312  \n",
       "2011-01-14  18860.439453  "
      ]
     },
     "execution_count": 3,
     "metadata": {},
     "output_type": "execute_result"
    }
   ],
   "source": [
    "df = web.DataReader('%5EBSESN','yahoo',start=\"2011-01-01\", end=\"2021-08-03\")\n",
    "df.head(10)"
   ]
  },
  {
   "cell_type": "code",
   "execution_count": 4,
   "metadata": {},
   "outputs": [
    {
     "data": {
      "text/html": [
       "<div>\n",
       "<style scoped>\n",
       "    .dataframe tbody tr th:only-of-type {\n",
       "        vertical-align: middle;\n",
       "    }\n",
       "\n",
       "    .dataframe tbody tr th {\n",
       "        vertical-align: top;\n",
       "    }\n",
       "\n",
       "    .dataframe thead th {\n",
       "        text-align: right;\n",
       "    }\n",
       "</style>\n",
       "<table border=\"1\" class=\"dataframe\">\n",
       "  <thead>\n",
       "    <tr style=\"text-align: right;\">\n",
       "      <th></th>\n",
       "      <th>Date</th>\n",
       "      <th>High</th>\n",
       "      <th>Low</th>\n",
       "      <th>Open</th>\n",
       "      <th>Close</th>\n",
       "      <th>Volume</th>\n",
       "      <th>Adj Close</th>\n",
       "    </tr>\n",
       "  </thead>\n",
       "  <tbody>\n",
       "    <tr>\n",
       "      <th>0</th>\n",
       "      <td>2011-01-03</td>\n",
       "      <td>20664.800781</td>\n",
       "      <td>20531.000000</td>\n",
       "      <td>20621.609375</td>\n",
       "      <td>20561.050781</td>\n",
       "      <td>12000.0</td>\n",
       "      <td>20561.050781</td>\n",
       "    </tr>\n",
       "    <tr>\n",
       "      <th>1</th>\n",
       "      <td>2011-01-04</td>\n",
       "      <td>20651.210938</td>\n",
       "      <td>20449.009766</td>\n",
       "      <td>20617.380859</td>\n",
       "      <td>20498.720703</td>\n",
       "      <td>15200.0</td>\n",
       "      <td>20498.720703</td>\n",
       "    </tr>\n",
       "    <tr>\n",
       "      <th>2</th>\n",
       "      <td>2011-01-05</td>\n",
       "      <td>20509.949219</td>\n",
       "      <td>20243.949219</td>\n",
       "      <td>20509.949219</td>\n",
       "      <td>20301.099609</td>\n",
       "      <td>14400.0</td>\n",
       "      <td>20301.099609</td>\n",
       "    </tr>\n",
       "    <tr>\n",
       "      <th>3</th>\n",
       "      <td>2011-01-06</td>\n",
       "      <td>20425.849609</td>\n",
       "      <td>20107.169922</td>\n",
       "      <td>20395.500000</td>\n",
       "      <td>20184.740234</td>\n",
       "      <td>16600.0</td>\n",
       "      <td>20184.740234</td>\n",
       "    </tr>\n",
       "    <tr>\n",
       "      <th>4</th>\n",
       "      <td>2011-01-07</td>\n",
       "      <td>20210.619141</td>\n",
       "      <td>19629.220703</td>\n",
       "      <td>20163.849609</td>\n",
       "      <td>19691.810547</td>\n",
       "      <td>15800.0</td>\n",
       "      <td>19691.810547</td>\n",
       "    </tr>\n",
       "    <tr>\n",
       "      <th>5</th>\n",
       "      <td>2011-01-10</td>\n",
       "      <td>19720.429688</td>\n",
       "      <td>19158.429688</td>\n",
       "      <td>19714.419922</td>\n",
       "      <td>19224.119141</td>\n",
       "      <td>17200.0</td>\n",
       "      <td>19224.119141</td>\n",
       "    </tr>\n",
       "    <tr>\n",
       "      <th>6</th>\n",
       "      <td>2011-01-11</td>\n",
       "      <td>19431.560547</td>\n",
       "      <td>19003.599609</td>\n",
       "      <td>19279.769531</td>\n",
       "      <td>19196.339844</td>\n",
       "      <td>20000.0</td>\n",
       "      <td>19196.339844</td>\n",
       "    </tr>\n",
       "    <tr>\n",
       "      <th>7</th>\n",
       "      <td>2011-01-12</td>\n",
       "      <td>19574.630859</td>\n",
       "      <td>19048.560547</td>\n",
       "      <td>19353.339844</td>\n",
       "      <td>19534.099609</td>\n",
       "      <td>19400.0</td>\n",
       "      <td>19534.099609</td>\n",
       "    </tr>\n",
       "    <tr>\n",
       "      <th>8</th>\n",
       "      <td>2011-01-13</td>\n",
       "      <td>19522.380859</td>\n",
       "      <td>19136.269531</td>\n",
       "      <td>19492.300781</td>\n",
       "      <td>19182.820312</td>\n",
       "      <td>16800.0</td>\n",
       "      <td>19182.820312</td>\n",
       "    </tr>\n",
       "    <tr>\n",
       "      <th>9</th>\n",
       "      <td>2011-01-14</td>\n",
       "      <td>19447.820312</td>\n",
       "      <td>18811.960938</td>\n",
       "      <td>19198.039062</td>\n",
       "      <td>18860.439453</td>\n",
       "      <td>15800.0</td>\n",
       "      <td>18860.439453</td>\n",
       "    </tr>\n",
       "  </tbody>\n",
       "</table>\n",
       "</div>"
      ],
      "text/plain": [
       "        Date          High           Low          Open         Close   Volume  \\\n",
       "0 2011-01-03  20664.800781  20531.000000  20621.609375  20561.050781  12000.0   \n",
       "1 2011-01-04  20651.210938  20449.009766  20617.380859  20498.720703  15200.0   \n",
       "2 2011-01-05  20509.949219  20243.949219  20509.949219  20301.099609  14400.0   \n",
       "3 2011-01-06  20425.849609  20107.169922  20395.500000  20184.740234  16600.0   \n",
       "4 2011-01-07  20210.619141  19629.220703  20163.849609  19691.810547  15800.0   \n",
       "5 2011-01-10  19720.429688  19158.429688  19714.419922  19224.119141  17200.0   \n",
       "6 2011-01-11  19431.560547  19003.599609  19279.769531  19196.339844  20000.0   \n",
       "7 2011-01-12  19574.630859  19048.560547  19353.339844  19534.099609  19400.0   \n",
       "8 2011-01-13  19522.380859  19136.269531  19492.300781  19182.820312  16800.0   \n",
       "9 2011-01-14  19447.820312  18811.960938  19198.039062  18860.439453  15800.0   \n",
       "\n",
       "      Adj Close  \n",
       "0  20561.050781  \n",
       "1  20498.720703  \n",
       "2  20301.099609  \n",
       "3  20184.740234  \n",
       "4  19691.810547  \n",
       "5  19224.119141  \n",
       "6  19196.339844  \n",
       "7  19534.099609  \n",
       "8  19182.820312  \n",
       "9  18860.439453  "
      ]
     },
     "execution_count": 4,
     "metadata": {},
     "output_type": "execute_result"
    }
   ],
   "source": [
    "df=df.reset_index()\n",
    "df.head(10)"
   ]
  },
  {
   "cell_type": "code",
   "execution_count": 5,
   "metadata": {
    "colab": {
     "base_uri": "https://localhost:8080/"
    },
    "id": "YBq5dGW7dJ1p",
    "outputId": "cb7edab4-aed3-4147-9a4b-45a4531554c1"
   },
   "outputs": [
    {
     "data": {
      "text/plain": [
       "(2594, 7)"
      ]
     },
     "execution_count": 5,
     "metadata": {},
     "output_type": "execute_result"
    }
   ],
   "source": [
    "df.shape"
   ]
  },
  {
   "cell_type": "markdown",
   "metadata": {
    "id": "7dt1rmJNqLHa"
   },
   "source": [
    "## Data Visualization\n"
   ]
  },
  {
   "cell_type": "code",
   "execution_count": 6,
   "metadata": {
    "colab": {
     "base_uri": "https://localhost:8080/",
     "height": 367
    },
    "id": "oqkI6JFxdgex",
    "outputId": "0838bced-0016-45ae-dfb8-9d229bcd4a98"
   },
   "outputs": [
    {
     "data": {
      "text/plain": [
       "Text(0.5, 1.0, 'Stock Price Analysis of S&P BSE SENSEX')"
      ]
     },
     "execution_count": 6,
     "metadata": {},
     "output_type": "execute_result"
    },
    {
     "data": {
      "image/png": "[encoded data removed]",
      "text/plain": [
       "<Figure size 864x432 with 1 Axes>"
      ]
     },
     "metadata": {
      "needs_background": "light"
     },
     "output_type": "display_data"
    }
   ],
   "source": [
    "plt.figure(1,(12,6))\n",
    "graph=plt.plot(df['Close'])\n",
    "plt.xlabel(\"Year\")\n",
    "plt.ylabel(\"Closing price (in $)\")\n",
    "plt.title(\"Stock Price Analysis of S&P BSE SENSEX\")"
   ]
  },
  {
   "cell_type": "markdown",
   "metadata": {
    "id": "Dd2NxLC2qVuF"
   },
   "source": [
    "## Data Preprocessing"
   ]
  },
  {
   "cell_type": "code",
   "execution_count": 7,
   "metadata": {
    "colab": {
     "base_uri": "https://localhost:8080/"
    },
    "id": "nu-uWXokd5vO",
    "outputId": "566d53f0-5935-4e64-beba-da0e9c494a46"
   },
   "outputs": [
    {
     "data": {
      "text/plain": [
       "array([[20561.05078125],\n",
       "       [20498.72070312],\n",
       "       [20301.09960938],\n",
       "       ...,\n",
       "       [52586.83984375],\n",
       "       [52950.62890625],\n",
       "       [53823.359375  ]])"
      ]
     },
     "execution_count": 7,
     "metadata": {},
     "output_type": "execute_result"
    }
   ],
   "source": [
    "data=df.filter(['Close'])\n",
    "df_new=data.values\n",
    "df_new"
   ]
  },
  {
   "cell_type": "code",
   "execution_count": 8,
   "metadata": {
    "id": "A8WW8roEgiPH"
   },
   "outputs": [],
   "source": [
    " from sklearn.preprocessing import MinMaxScaler"
   ]
  },
  {
   "cell_type": "code",
   "execution_count": 9,
   "metadata": {
    "colab": {
     "base_uri": "https://localhost:8080/"
    },
    "id": "_nOiyKvl3YQi",
    "outputId": "985e9134-5ee1-4c9b-c940-9fbca538c6a0"
   },
   "outputs": [
    {
     "data": {
      "text/plain": [
       "array([[0.13935862],\n",
       "       [0.13774586],\n",
       "       [0.13263254],\n",
       "       ...,\n",
       "       [0.96800583],\n",
       "       [0.97741865],\n",
       "       [1.        ]])"
      ]
     },
     "execution_count": 9,
     "metadata": {},
     "output_type": "execute_result"
    }
   ],
   "source": [
    "scaler=MinMaxScaler(feature_range=(0,1),copy=True)\n",
    "scaled_data=scaler.fit_transform(df_new)\n",
    "scaled_data"
   ]
  },
  {
   "cell_type": "markdown",
   "metadata": {
    "id": "Zi5SiwBtqdNR"
   },
   "source": [
    "## Dividing dataset into train and test data"
   ]
  },
  {
   "cell_type": "code",
   "execution_count": 10,
   "metadata": {
    "colab": {
     "base_uri": "https://localhost:8080/"
    },
    "id": "_QUzrj1xkGXw",
    "outputId": "c910247a-cb20-4eb5-d416-7512e93e9aef"
   },
   "outputs": [
    {
     "name": "stdout",
     "output_type": "stream",
     "text": [
      "train_len= 2076\n",
      "test_len= 518\n"
     ]
    }
   ],
   "source": [
    "train_len=math.ceil(len(df_new)*0.8)\n",
    "test_len=len(data)-train_len\n",
    "print(\"train_len=\",train_len)\n",
    "print(\"test_len=\",test_len)"
   ]
  },
  {
   "cell_type": "code",
   "execution_count": 11,
   "metadata": {
    "id": "-ILbCFB03gQ7"
   },
   "outputs": [],
   "source": [
    "train_data = scaled_data[0:train_len,:] "
   ]
  },
  {
   "cell_type": "code",
   "execution_count": 12,
   "metadata": {
    "colab": {
     "base_uri": "https://localhost:8080/"
    },
    "id": "1gWtFDVnknc8",
    "outputId": "c0d13fad-fa1b-4deb-d803-076f4c2b6562"
   },
   "outputs": [
    {
     "data": {
      "text/plain": [
       "(2076, 1)"
      ]
     },
     "execution_count": 12,
     "metadata": {},
     "output_type": "execute_result"
    }
   ],
   "source": [
    "train_data.shape"
   ]
  },
  {
   "cell_type": "code",
   "execution_count": 13,
   "metadata": {
    "id": "4fYtG2QMkQS7"
   },
   "outputs": [],
   "source": [
    "test_data=scaled_data[train_len-60:,:]"
   ]
  },
  {
   "cell_type": "code",
   "execution_count": 14,
   "metadata": {
    "colab": {
     "base_uri": "https://localhost:8080/"
    },
    "id": "dVv3GP98kroG",
    "outputId": "c1786d34-72c6-4d8b-f55e-666436955b10"
   },
   "outputs": [
    {
     "data": {
      "text/plain": [
       "(578, 1)"
      ]
     },
     "execution_count": 14,
     "metadata": {},
     "output_type": "execute_result"
    }
   ],
   "source": [
    "test_data.shape"
   ]
  },
  {
   "cell_type": "markdown",
   "metadata": {
    "id": "TmEStNDPq9Vv"
   },
   "source": [
    "## Training model for 60 days and predicting for 61st day"
   ]
  },
  {
   "cell_type": "code",
   "execution_count": 15,
   "metadata": {
    "colab": {
     "base_uri": "https://localhost:8080/"
    },
    "id": "RAM9NR1u5lLy",
    "outputId": "d67397ac-ed7d-42d1-f7b0-8f0f66b775ee"
   },
   "outputs": [
    {
     "name": "stdout",
     "output_type": "stream",
     "text": [
      "X_train [array([0.13935862, 0.13774586, 0.13263254, 0.12962182, 0.11686757,\n",
      "       0.10476635, 0.10404758, 0.1127869 , 0.10369777, 0.09535636,\n",
      "       0.0959207 , 0.10134916, 0.09840646, 0.10017157, 0.09916222,\n",
      "       0.10288166, 0.09817692, 0.09080222, 0.08333853, 0.08157361,\n",
      "       0.07366798, 0.07543775, 0.08471866, 0.07330392, 0.07405529,\n",
      "       0.06728939, 0.0625562 , 0.0591995 , 0.06607097, 0.07832481,\n",
      "       0.08017746, 0.08087864, 0.08620669, 0.07856597, 0.08443404,\n",
      "       0.08075599, 0.07770721, 0.06358188, 0.06535427, 0.06852363,\n",
      "       0.08464594, 0.08576526, 0.0856796 , 0.07885448, 0.08446871,\n",
      "       0.08525267, 0.08157932, 0.0775975 , 0.08446431, 0.07743063,\n",
      "       0.0823739 , 0.0769708 , 0.06995733, 0.06892857, 0.07279032,\n",
      "       0.0784273 , 0.08216822, 0.09419722, 0.0974962 , 0.10209305])]\n",
      "y_train [0.10647562282825196]\n",
      "\n"
     ]
    }
   ],
   "source": [
    "X_train = []\n",
    "y_train = []\n",
    "for i in range(60,len(train_data)):                 \n",
    "    X_train.append(train_data[i-60:i,0])\n",
    "    y_train.append(train_data[i,0])\n",
    "    if i<=60:\n",
    "        print(\"X_train\",X_train)\n",
    "        print(\"y_train\",y_train)\n",
    "        print()"
   ]
  },
  {
   "cell_type": "code",
   "execution_count": 16,
   "metadata": {
    "colab": {
     "base_uri": "https://localhost:8080/"
    },
    "id": "SqOBNhy7AU70",
    "outputId": "6aa14a33-00e8-4e8c-a88c-e815b8c49f43"
   },
   "outputs": [
    {
     "data": {
      "text/plain": [
       "list"
      ]
     },
     "execution_count": 16,
     "metadata": {},
     "output_type": "execute_result"
    }
   ],
   "source": [
    "type(X_train) "
   ]
  },
  {
   "cell_type": "code",
   "execution_count": 17,
   "metadata": {
    "colab": {
     "base_uri": "https://localhost:8080/"
    },
    "id": "wew5YGUik7z9",
    "outputId": "c048bd14-6a8a-45f0-8360-460d60ec71fe"
   },
   "outputs": [
    {
     "data": {
      "text/plain": [
       "list"
      ]
     },
     "execution_count": 17,
     "metadata": {},
     "output_type": "execute_result"
    }
   ],
   "source": [
    "type(y_train)"
   ]
  },
  {
   "cell_type": "code",
   "execution_count": 18,
   "metadata": {
    "colab": {
     "base_uri": "https://localhost:8080/"
    },
    "id": "wqOmZeAjQFnM",
    "outputId": "4b13868a-7829-4006-9670-e3be304b1f41"
   },
   "outputs": [
    {
     "data": {
      "text/plain": [
       "(2016, 60, 1)"
      ]
     },
     "execution_count": 18,
     "metadata": {},
     "output_type": "execute_result"
    }
   ],
   "source": [
    "X_train = np.array(X_train)     \n",
    "y_train = np.array(y_train)\n",
    "X_train=np.reshape(X_train,(X_train.shape[0],X_train.shape[1],1))\n",
    "X_train.shape"
   ]
  },
  {
   "cell_type": "code",
   "execution_count": 19,
   "metadata": {
    "id": "7sH_0fkUlKh2"
   },
   "outputs": [],
   "source": [
    "X_test=[]\n",
    "y_test=df_new[train_len:,:]\n",
    "for i in range(60,len(test_data)):\n",
    "    X_test.append(test_data[i-60:i,0])"
   ]
  },
  {
   "cell_type": "code",
   "execution_count": 20,
   "metadata": {
    "colab": {
     "base_uri": "https://localhost:8080/"
    },
    "id": "41Q4EuEPle3V",
    "outputId": "9a0b7971-f814-49d6-a2d0-99edaddf8320"
   },
   "outputs": [
    {
     "data": {
      "text/plain": [
       "list"
      ]
     },
     "execution_count": 20,
     "metadata": {},
     "output_type": "execute_result"
    }
   ],
   "source": [
    "type(X_test)"
   ]
  },
  {
   "cell_type": "code",
   "execution_count": 21,
   "metadata": {
    "colab": {
     "base_uri": "https://localhost:8080/"
    },
    "id": "ctjqaToAldY1",
    "outputId": "be974c04-932c-436e-955c-f4ce580ea42b"
   },
   "outputs": [
    {
     "data": {
      "text/plain": [
       "numpy.ndarray"
      ]
     },
     "execution_count": 21,
     "metadata": {},
     "output_type": "execute_result"
    }
   ],
   "source": [
    "type(y_test)"
   ]
  },
  {
   "cell_type": "code",
   "execution_count": 22,
   "metadata": {
    "colab": {
     "base_uri": "https://localhost:8080/"
    },
    "id": "K9ivZmcjlkgB",
    "outputId": "cc5958ba-7981-4d87-c00b-2dc451738440"
   },
   "outputs": [
    {
     "data": {
      "text/plain": [
       "(518, 60, 1)"
      ]
     },
     "execution_count": 22,
     "metadata": {},
     "output_type": "execute_result"
    }
   ],
   "source": [
    "X_test=np.array(X_test)\n",
    "X_test=np.reshape(X_test,(X_test.shape[0],X_test.shape[1],1))\n",
    "X_test.shape"
   ]
  },
  {
   "cell_type": "markdown",
   "metadata": {
    "id": "nWxjYyPXrV0y"
   },
   "source": [
    "## LSTM Model "
   ]
  },
  {
   "cell_type": "code",
   "execution_count": 23,
   "metadata": {
    "id": "vA2srjLTVsYz"
   },
   "outputs": [],
   "source": [
    "model=Sequential()\n",
    "model.add(LSTM(50, return_sequences=True, input_shape=(X_train.shape[1],1)))\n",
    "model.add(LSTM(50, return_sequences=False))\n",
    "model.add(Dense(25))\n",
    "model.add(Dense(1))"
   ]
  },
  {
   "cell_type": "code",
   "execution_count": 24,
   "metadata": {
    "colab": {
     "base_uri": "https://localhost:8080/"
    },
    "id": "K9jvN-c9re6P",
    "outputId": "5997363b-fa0a-4ea3-aae6-2496adc0b01b"
   },
   "outputs": [
    {
     "name": "stdout",
     "output_type": "stream",
     "text": [
      "Model: \"sequential\"\n",
      "_________________________________________________________________\n",
      "Layer (type)                 Output Shape              Param #   \n",
      "=================================================================\n",
      "lstm (LSTM)                  (None, 60, 50)            10400     \n",
      "_________________________________________________________________\n",
      "lstm_1 (LSTM)                (None, 50)                20200     \n",
      "_________________________________________________________________\n",
      "dense (Dense)                (None, 25)                1275      \n",
      "_________________________________________________________________\n",
      "dense_1 (Dense)              (None, 1)                 26        \n",
      "=================================================================\n",
      "Total params: 31,901\n",
      "Trainable params: 31,901\n",
      "Non-trainable params: 0\n",
      "_________________________________________________________________\n"
     ]
    }
   ],
   "source": [
    "model.summary()"
   ]
  },
  {
   "cell_type": "code",
   "execution_count": 25,
   "metadata": {
    "id": "8w9zuYkaVxBh"
   },
   "outputs": [],
   "source": [
    "model.compile(optimizer='adam',loss='mean_squared_error')"
   ]
  },
  {
   "cell_type": "code",
   "execution_count": 26,
   "metadata": {
    "colab": {
     "base_uri": "https://localhost:8080/"
    },
    "id": "fknj_ucNV3_W",
    "outputId": "98e092c2-6e0b-4f92-ca22-08473ed4b60e"
   },
   "outputs": [
    {
     "name": "stdout",
     "output_type": "stream",
     "text": [
      "Epoch 1/5\n",
      "2016/2016 [==============================] - 57s 26ms/step - loss: 7.2036e-04\n",
      "Epoch 2/5\n",
      "2016/2016 [==============================] - 51s 25ms/step - loss: 2.7902e-04\n",
      "Epoch 3/5\n",
      "2016/2016 [==============================] - 52s 26ms/step - loss: 2.1857e-04\n",
      "Epoch 4/5\n",
      "2016/2016 [==============================] - 50s 25ms/step - loss: 1.5151e-04\n",
      "Epoch 5/5\n",
      "2016/2016 [==============================] - 62s 31ms/step - loss: 1.2726e-04\n"
     ]
    },
    {
     "data": {
      "text/plain": [
       "<keras.callbacks.History at 0x2a299869190>"
      ]
     },
     "execution_count": 26,
     "metadata": {},
     "output_type": "execute_result"
    }
   ],
   "source": [
    "model.fit(X_train,y_train,batch_size=1,epochs=5)"
   ]
  },
  {
   "cell_type": "markdown",
   "metadata": {
    "id": "DYR9iynvrlSY"
   },
   "source": [
    "## Predictions"
   ]
  },
  {
   "cell_type": "code",
   "execution_count": 27,
   "metadata": {
    "id": "EeGi64LF6LOl"
   },
   "outputs": [],
   "source": [
    "y_pred=model.predict(X_test)\n",
    "y_pred=scaler.inverse_transform(y_pred)"
   ]
  },
  {
   "cell_type": "code",
   "execution_count": 28,
   "metadata": {
    "colab": {
     "base_uri": "https://localhost:8080/",
     "height": 334
    },
    "id": "krQog_m_a332",
    "outputId": "7b488db8-429b-4786-f29c-731fc117aa62"
   },
   "outputs": [
    {
     "data": {
      "image/png": "[encoded data removed]",
      "text/plain": [
       "<Figure size 1080x360 with 1 Axes>"
      ]
     },
     "metadata": {
      "needs_background": "light"
     },
     "output_type": "display_data"
    }
   ],
   "source": [
    "train=data[:train_len]\n",
    "validation=data[train_len:]\n",
    "validation['Predictions']=y_pred\n",
    "plt.figure(figsize=(15,5))\n",
    "plt.xlabel(\"DATE\")\n",
    "plt.ylabel(\"Closing Price($)\")\n",
    "plt.plot(df['Close'])\n",
    "plt.plot(validation[['Close','Predictions']])\n",
    "plt.legend(['Train','Valid','Predictions'])\n",
    "plt.show()"
   ]
  },
  {
   "cell_type": "markdown",
   "metadata": {
    "id": "MTOXEVprrpWe"
   },
   "source": [
    "# Testing our model to find closing price for \"4th August 2021\""
   ]
  },
  {
   "cell_type": "code",
   "execution_count": 29,
   "metadata": {
    "colab": {
     "base_uri": "https://localhost:8080/"
    },
    "id": "wdIeuY58bOiG",
    "outputId": "c6fa89f7-6d0e-4bb1-ced9-238a6112b540"
   },
   "outputs": [
    {
     "name": "stdout",
     "output_type": "stream",
     "text": [
      "[[52569.895]]\n"
     ]
    }
   ],
   "source": [
    "last_60_days=data[-60:].values\n",
    "last_60_days_scaled=scaler.transform(last_60_days)\n",
    "X_test=[]\n",
    "X_test.append(last_60_days_scaled)\n",
    "X_test=np.array(X_test)\n",
    "X_test=np.reshape(X_test,(X_test.shape[0],X_test.shape[1],1))\n",
    "pred_price=model.predict(X_test)\n",
    "pred_price=scaler.inverse_transform(pred_price)\n",
    "print(pred_price)"
   ]
  },
  {
   "cell_type": "code",
   "execution_count": 30,
   "metadata": {
    "colab": {
     "base_uri": "https://localhost:8080/"
    },
    "id": "Orvd2Pdu30OW",
    "outputId": "48a63d1a-179e-492c-de3c-e70153aed7f1"
   },
   "outputs": [
    {
     "data": {
      "text/html": [
       "<div>\n",
       "<style scoped>\n",
       "    .dataframe tbody tr th:only-of-type {\n",
       "        vertical-align: middle;\n",
       "    }\n",
       "\n",
       "    .dataframe tbody tr th {\n",
       "        vertical-align: top;\n",
       "    }\n",
       "\n",
       "    .dataframe thead th {\n",
       "        text-align: right;\n",
       "    }\n",
       "</style>\n",
       "<table border=\"1\" class=\"dataframe\">\n",
       "  <thead>\n",
       "    <tr style=\"text-align: right;\">\n",
       "      <th></th>\n",
       "      <th>High</th>\n",
       "      <th>Low</th>\n",
       "      <th>Open</th>\n",
       "      <th>Close</th>\n",
       "      <th>Volume</th>\n",
       "      <th>Adj Close</th>\n",
       "    </tr>\n",
       "    <tr>\n",
       "      <th>Date</th>\n",
       "      <th></th>\n",
       "      <th></th>\n",
       "      <th></th>\n",
       "      <th></th>\n",
       "      <th></th>\n",
       "      <th></th>\n",
       "    </tr>\n",
       "  </thead>\n",
       "  <tbody>\n",
       "    <tr>\n",
       "      <th>2021-08-04</th>\n",
       "      <td>54465.910156</td>\n",
       "      <td>54034.308594</td>\n",
       "      <td>54071.218750</td>\n",
       "      <td>54369.769531</td>\n",
       "      <td>14600</td>\n",
       "      <td>54369.769531</td>\n",
       "    </tr>\n",
       "    <tr>\n",
       "      <th>2021-08-05</th>\n",
       "      <td>54717.238281</td>\n",
       "      <td>54230.890625</td>\n",
       "      <td>54576.640625</td>\n",
       "      <td>54492.839844</td>\n",
       "      <td>15300</td>\n",
       "      <td>54492.839844</td>\n",
       "    </tr>\n",
       "  </tbody>\n",
       "</table>\n",
       "</div>"
      ],
      "text/plain": [
       "                    High           Low          Open         Close  Volume  \\\n",
       "Date                                                                         \n",
       "2021-08-04  54465.910156  54034.308594  54071.218750  54369.769531   14600   \n",
       "2021-08-05  54717.238281  54230.890625  54576.640625  54492.839844   15300   \n",
       "\n",
       "               Adj Close  \n",
       "Date                      \n",
       "2021-08-04  54369.769531  \n",
       "2021-08-05  54492.839844  "
      ]
     },
     "execution_count": 30,
     "metadata": {},
     "output_type": "execute_result"
    }
   ],
   "source": [
    "sample = web.DataReader(\"%5EBSESN\",data_source='yahoo', start=\"2021-08-04\", end=\"2021-08-05\")\n",
    "sample.head(10)\n"
   ]
  },
  {
   "cell_type": "markdown",
   "metadata": {
    "id": "OI10pmrar7zC"
   },
   "source": [
    "# Sentiment Analysis "
   ]
  },
  {
   "cell_type": "markdown",
   "metadata": {
    "id": "LXTsHPqVsCjM"
   },
   "source": [
    "## Gathering dataset"
   ]
  },
  {
   "cell_type": "code",
   "execution_count": 31,
   "metadata": {
    "id": "4YDm1B5Z4PyG"
   },
   "outputs": [
    {
     "ename": "FileNotFoundError",
     "evalue": "[Errno 2] File india-news-headlines.csv does not exist: 'india-news-headlines.csv'",
     "output_type": "error",
     "traceback": [
      "\u001b[1;31m---------------------------------------------------------------------------\u001b[0m",
      "\u001b[1;31mFileNotFoundError\u001b[0m                         Traceback (most recent call last)",
      "\u001b[1;32m<ipython-input-31-ba29f07db650>\u001b[0m in \u001b[0;36m<module>\u001b[1;34m\u001b[0m\n\u001b[1;32m----> 1\u001b[1;33m \u001b[0mdf_sentiment\u001b[0m \u001b[1;33m=\u001b[0m \u001b[0mpd\u001b[0m\u001b[1;33m.\u001b[0m\u001b[0mread_csv\u001b[0m\u001b[1;33m(\u001b[0m\u001b[1;34m\"india-news-headlines.csv\"\u001b[0m\u001b[1;33m)\u001b[0m\u001b[1;33m\u001b[0m\u001b[1;33m\u001b[0m\u001b[0m\n\u001b[0m",
      "\u001b[1;32mD:\\A\\lib\\site-packages\\pandas\\io\\parsers.py\u001b[0m in \u001b[0;36mparser_f\u001b[1;34m(filepath_or_buffer, sep, delimiter, header, names, index_col, usecols, squeeze, prefix, mangle_dupe_cols, dtype, engine, converters, true_values, false_values, skipinitialspace, skiprows, skipfooter, nrows, na_values, keep_default_na, na_filter, verbose, skip_blank_lines, parse_dates, infer_datetime_format, keep_date_col, date_parser, dayfirst, cache_dates, iterator, chunksize, compression, thousands, decimal, lineterminator, quotechar, quoting, doublequote, escapechar, comment, encoding, dialect, error_bad_lines, warn_bad_lines, delim_whitespace, low_memory, memory_map, float_precision)\u001b[0m\n\u001b[0;32m    674\u001b[0m         )\n\u001b[0;32m    675\u001b[0m \u001b[1;33m\u001b[0m\u001b[0m\n\u001b[1;32m--> 676\u001b[1;33m         \u001b[1;32mreturn\u001b[0m \u001b[0m_read\u001b[0m\u001b[1;33m(\u001b[0m\u001b[0mfilepath_or_buffer\u001b[0m\u001b[1;33m,\u001b[0m \u001b[0mkwds\u001b[0m\u001b[1;33m)\u001b[0m\u001b[1;33m\u001b[0m\u001b[1;33m\u001b[0m\u001b[0m\n\u001b[0m\u001b[0;32m    677\u001b[0m \u001b[1;33m\u001b[0m\u001b[0m\n\u001b[0;32m    678\u001b[0m     \u001b[0mparser_f\u001b[0m\u001b[1;33m.\u001b[0m\u001b[0m__name__\u001b[0m \u001b[1;33m=\u001b[0m \u001b[0mname\u001b[0m\u001b[1;33m\u001b[0m\u001b[1;33m\u001b[0m\u001b[0m\n",
      "\u001b[1;32mD:\\A\\lib\\site-packages\\pandas\\io\\parsers.py\u001b[0m in \u001b[0;36m_read\u001b[1;34m(filepath_or_buffer, kwds)\u001b[0m\n\u001b[0;32m    446\u001b[0m \u001b[1;33m\u001b[0m\u001b[0m\n\u001b[0;32m    447\u001b[0m     \u001b[1;31m# Create the parser.\u001b[0m\u001b[1;33m\u001b[0m\u001b[1;33m\u001b[0m\u001b[1;33m\u001b[0m\u001b[0m\n\u001b[1;32m--> 448\u001b[1;33m     \u001b[0mparser\u001b[0m \u001b[1;33m=\u001b[0m \u001b[0mTextFileReader\u001b[0m\u001b[1;33m(\u001b[0m\u001b[0mfp_or_buf\u001b[0m\u001b[1;33m,\u001b[0m \u001b[1;33m**\u001b[0m\u001b[0mkwds\u001b[0m\u001b[1;33m)\u001b[0m\u001b[1;33m\u001b[0m\u001b[1;33m\u001b[0m\u001b[0m\n\u001b[0m\u001b[0;32m    449\u001b[0m \u001b[1;33m\u001b[0m\u001b[0m\n\u001b[0;32m    450\u001b[0m     \u001b[1;32mif\u001b[0m \u001b[0mchunksize\u001b[0m \u001b[1;32mor\u001b[0m \u001b[0miterator\u001b[0m\u001b[1;33m:\u001b[0m\u001b[1;33m\u001b[0m\u001b[1;33m\u001b[0m\u001b[0m\n",
      "\u001b[1;32mD:\\A\\lib\\site-packages\\pandas\\io\\parsers.py\u001b[0m in \u001b[0;36m__init__\u001b[1;34m(self, f, engine, **kwds)\u001b[0m\n\u001b[0;32m    878\u001b[0m             \u001b[0mself\u001b[0m\u001b[1;33m.\u001b[0m\u001b[0moptions\u001b[0m\u001b[1;33m[\u001b[0m\u001b[1;34m\"has_index_names\"\u001b[0m\u001b[1;33m]\u001b[0m \u001b[1;33m=\u001b[0m \u001b[0mkwds\u001b[0m\u001b[1;33m[\u001b[0m\u001b[1;34m\"has_index_names\"\u001b[0m\u001b[1;33m]\u001b[0m\u001b[1;33m\u001b[0m\u001b[1;33m\u001b[0m\u001b[0m\n\u001b[0;32m    879\u001b[0m \u001b[1;33m\u001b[0m\u001b[0m\n\u001b[1;32m--> 880\u001b[1;33m         \u001b[0mself\u001b[0m\u001b[1;33m.\u001b[0m\u001b[0m_make_engine\u001b[0m\u001b[1;33m(\u001b[0m\u001b[0mself\u001b[0m\u001b[1;33m.\u001b[0m\u001b[0mengine\u001b[0m\u001b[1;33m)\u001b[0m\u001b[1;33m\u001b[0m\u001b[1;33m\u001b[0m\u001b[0m\n\u001b[0m\u001b[0;32m    881\u001b[0m \u001b[1;33m\u001b[0m\u001b[0m\n\u001b[0;32m    882\u001b[0m     \u001b[1;32mdef\u001b[0m \u001b[0mclose\u001b[0m\u001b[1;33m(\u001b[0m\u001b[0mself\u001b[0m\u001b[1;33m)\u001b[0m\u001b[1;33m:\u001b[0m\u001b[1;33m\u001b[0m\u001b[1;33m\u001b[0m\u001b[0m\n",
      "\u001b[1;32mD:\\A\\lib\\site-packages\\pandas\\io\\parsers.py\u001b[0m in \u001b[0;36m_make_engine\u001b[1;34m(self, engine)\u001b[0m\n\u001b[0;32m   1112\u001b[0m     \u001b[1;32mdef\u001b[0m \u001b[0m_make_engine\u001b[0m\u001b[1;33m(\u001b[0m\u001b[0mself\u001b[0m\u001b[1;33m,\u001b[0m \u001b[0mengine\u001b[0m\u001b[1;33m=\u001b[0m\u001b[1;34m\"c\"\u001b[0m\u001b[1;33m)\u001b[0m\u001b[1;33m:\u001b[0m\u001b[1;33m\u001b[0m\u001b[1;33m\u001b[0m\u001b[0m\n\u001b[0;32m   1113\u001b[0m         \u001b[1;32mif\u001b[0m \u001b[0mengine\u001b[0m \u001b[1;33m==\u001b[0m \u001b[1;34m\"c\"\u001b[0m\u001b[1;33m:\u001b[0m\u001b[1;33m\u001b[0m\u001b[1;33m\u001b[0m\u001b[0m\n\u001b[1;32m-> 1114\u001b[1;33m             \u001b[0mself\u001b[0m\u001b[1;33m.\u001b[0m\u001b[0m_engine\u001b[0m \u001b[1;33m=\u001b[0m \u001b[0mCParserWrapper\u001b[0m\u001b[1;33m(\u001b[0m\u001b[0mself\u001b[0m\u001b[1;33m.\u001b[0m\u001b[0mf\u001b[0m\u001b[1;33m,\u001b[0m \u001b[1;33m**\u001b[0m\u001b[0mself\u001b[0m\u001b[1;33m.\u001b[0m\u001b[0moptions\u001b[0m\u001b[1;33m)\u001b[0m\u001b[1;33m\u001b[0m\u001b[1;33m\u001b[0m\u001b[0m\n\u001b[0m\u001b[0;32m   1115\u001b[0m         \u001b[1;32melse\u001b[0m\u001b[1;33m:\u001b[0m\u001b[1;33m\u001b[0m\u001b[1;33m\u001b[0m\u001b[0m\n\u001b[0;32m   1116\u001b[0m             \u001b[1;32mif\u001b[0m \u001b[0mengine\u001b[0m \u001b[1;33m==\u001b[0m \u001b[1;34m\"python\"\u001b[0m\u001b[1;33m:\u001b[0m\u001b[1;33m\u001b[0m\u001b[1;33m\u001b[0m\u001b[0m\n",
      "\u001b[1;32mD:\\A\\lib\\site-packages\\pandas\\io\\parsers.py\u001b[0m in \u001b[0;36m__init__\u001b[1;34m(self, src, **kwds)\u001b[0m\n\u001b[0;32m   1889\u001b[0m         \u001b[0mkwds\u001b[0m\u001b[1;33m[\u001b[0m\u001b[1;34m\"usecols\"\u001b[0m\u001b[1;33m]\u001b[0m \u001b[1;33m=\u001b[0m \u001b[0mself\u001b[0m\u001b[1;33m.\u001b[0m\u001b[0musecols\u001b[0m\u001b[1;33m\u001b[0m\u001b[1;33m\u001b[0m\u001b[0m\n\u001b[0;32m   1890\u001b[0m \u001b[1;33m\u001b[0m\u001b[0m\n\u001b[1;32m-> 1891\u001b[1;33m         \u001b[0mself\u001b[0m\u001b[1;33m.\u001b[0m\u001b[0m_reader\u001b[0m \u001b[1;33m=\u001b[0m \u001b[0mparsers\u001b[0m\u001b[1;33m.\u001b[0m\u001b[0mTextReader\u001b[0m\u001b[1;33m(\u001b[0m\u001b[0msrc\u001b[0m\u001b[1;33m,\u001b[0m \u001b[1;33m**\u001b[0m\u001b[0mkwds\u001b[0m\u001b[1;33m)\u001b[0m\u001b[1;33m\u001b[0m\u001b[1;33m\u001b[0m\u001b[0m\n\u001b[0m\u001b[0;32m   1892\u001b[0m         \u001b[0mself\u001b[0m\u001b[1;33m.\u001b[0m\u001b[0munnamed_cols\u001b[0m \u001b[1;33m=\u001b[0m \u001b[0mself\u001b[0m\u001b[1;33m.\u001b[0m\u001b[0m_reader\u001b[0m\u001b[1;33m.\u001b[0m\u001b[0munnamed_cols\u001b[0m\u001b[1;33m\u001b[0m\u001b[1;33m\u001b[0m\u001b[0m\n\u001b[0;32m   1893\u001b[0m \u001b[1;33m\u001b[0m\u001b[0m\n",
      "\u001b[1;32mpandas\\_libs\\parsers.pyx\u001b[0m in \u001b[0;36mpandas._libs.parsers.TextReader.__cinit__\u001b[1;34m()\u001b[0m\n",
      "\u001b[1;32mpandas\\_libs\\parsers.pyx\u001b[0m in \u001b[0;36mpandas._libs.parsers.TextReader._setup_parser_source\u001b[1;34m()\u001b[0m\n",
      "\u001b[1;31mFileNotFoundError\u001b[0m: [Errno 2] File india-news-headlines.csv does not exist: 'india-news-headlines.csv'"
     ]
    }
   ],
   "source": [
    "df_sentiment = pd.read_csv(\"india-news-headlines.csv\")"
   ]
  },
  {
   "cell_type": "code",
   "execution_count": null,
   "metadata": {
    "colab": {
     "base_uri": "https://localhost:8080/",
     "height": 203
    },
    "id": "BfjLKsgFWmE1",
    "outputId": "7fb486d2-cdf6-440f-9aba-c3c33a6e6b91"
   },
   "outputs": [],
   "source": [
    "df_sentiment.head()"
   ]
  },
  {
   "cell_type": "markdown",
   "metadata": {
    "id": "5j-55bsvsH1t"
   },
   "source": [
    "## Importing necessary modules"
   ]
  },
  {
   "cell_type": "code",
   "execution_count": null,
   "metadata": {
    "colab": {
     "base_uri": "https://localhost:8080/"
    },
    "id": "j021oo_0sDnQ",
    "outputId": "8625cae0-bb60-4fe8-9d4d-01c9c31f732f"
   },
   "outputs": [],
   "source": [
    "from nltk.sentiment.vader import SentimentIntensityAnalyzer\n",
    "import nltk\n",
    "nltk.downloader.download('vader_lexicon')"
   ]
  },
  {
   "cell_type": "markdown",
   "metadata": {
    "id": "QO0tPoDmsMzN"
   },
   "source": [
    "## Predicting if a news headline is positive , negative or neutral"
   ]
  },
  {
   "cell_type": "code",
   "execution_count": null,
   "metadata": {
    "colab": {
     "base_uri": "https://localhost:8080/",
     "height": 203
    },
    "id": "kV_9XsoWYkk6",
    "outputId": "f14fafec-76ce-4acb-d18d-7466b2d76594"
   },
   "outputs": [],
   "source": [
    "vader = SentimentIntensityAnalyzer()\n",
    "\n",
    "sentiment = df_sentiment['headline_text'].apply(vader.polarity_scores).tolist()\n",
    "sentiment_score = pd.DataFrame(sentiment)\n",
    "\n",
    "df_sentiment = df_sentiment.join(sentiment_score, rsuffix='_right')\n",
    "\n",
    "\n",
    "df_sentiment.head()"
   ]
  }
 ],
 "metadata": {
  "accelerator": "GPU",
  "colab": {
   "collapsed_sections": [],
   "name": "Stock_Prediction-and-Sentiment_Analysis.ipynb",
   "provenance": []
  },
  "kernelspec": {
   "display_name": "Python 3",
   "language": "python",
   "name": "python3"
  },
  "language_info": {
   "codemirror_mode": {
    "name": "ipython",
    "version": 3
   },
   "file_extension": ".py",
   "mimetype": "text/x-python",
   "name": "python",
   "nbconvert_exporter": "python",
   "pygments_lexer": "ipython3",
   "version": "3.8.3"
  }
 },
 "nbformat": 4,
 "nbformat_minor": 1
}
